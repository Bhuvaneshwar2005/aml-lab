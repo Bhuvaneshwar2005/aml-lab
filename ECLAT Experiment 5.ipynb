{
 "cells": [
  {
   "cell_type": "code",
   "execution_count": 1,
   "id": "0d2b2acb",
   "metadata": {},
   "outputs": [
    {
     "name": "stdout",
     "output_type": "stream",
     "text": [
      "Defaulting to user installation because normal site-packages is not writeable\n",
      "Requirement already satisfied: apyori in c:\\users\\ramya\\appdata\\roaming\\python\\python310\\site-packages (1.1.2)\n"
     ]
    }
   ],
   "source": [
    "!pip install apyori"
   ]
  },
  {
   "cell_type": "code",
   "execution_count": 2,
   "id": "86165eca",
   "metadata": {},
   "outputs": [],
   "source": [
    "import numpy as np\n",
    "import matplotlib.pyplot as plt\n",
    "import pandas as pd"
   ]
  },
  {
   "cell_type": "code",
   "execution_count": 3,
   "id": "5b59b9b5",
   "metadata": {},
   "outputs": [
    {
     "data": {
      "text/html": [
       "<div>\n",
       "<style scoped>\n",
       "    .dataframe tbody tr th:only-of-type {\n",
       "        vertical-align: middle;\n",
       "    }\n",
       "\n",
       "    .dataframe tbody tr th {\n",
       "        vertical-align: top;\n",
       "    }\n",
       "\n",
       "    .dataframe thead th {\n",
       "        text-align: right;\n",
       "    }\n",
       "</style>\n",
       "<table border=\"1\" class=\"dataframe\">\n",
       "  <thead>\n",
       "    <tr style=\"text-align: right;\">\n",
       "      <th></th>\n",
       "      <th>citrus fruit</th>\n",
       "      <th>semi-finished bread</th>\n",
       "      <th>margarine</th>\n",
       "      <th>ready soups</th>\n",
       "    </tr>\n",
       "  </thead>\n",
       "  <tbody>\n",
       "    <tr>\n",
       "      <th>0</th>\n",
       "      <td>tropical fruit</td>\n",
       "      <td>yogurt</td>\n",
       "      <td>coffee</td>\n",
       "      <td>NaN</td>\n",
       "    </tr>\n",
       "    <tr>\n",
       "      <th>1</th>\n",
       "      <td>whole milk</td>\n",
       "      <td>NaN</td>\n",
       "      <td>NaN</td>\n",
       "      <td>NaN</td>\n",
       "    </tr>\n",
       "    <tr>\n",
       "      <th>2</th>\n",
       "      <td>pip fruit</td>\n",
       "      <td>yogurt</td>\n",
       "      <td>cream cheese</td>\n",
       "      <td>meat spreads</td>\n",
       "    </tr>\n",
       "    <tr>\n",
       "      <th>3</th>\n",
       "      <td>other vegetables</td>\n",
       "      <td>whole milk</td>\n",
       "      <td>condensed milk</td>\n",
       "      <td>long life bakery product</td>\n",
       "    </tr>\n",
       "    <tr>\n",
       "      <th>4</th>\n",
       "      <td>rolls/buns</td>\n",
       "      <td>NaN</td>\n",
       "      <td>NaN</td>\n",
       "      <td>NaN</td>\n",
       "    </tr>\n",
       "    <tr>\n",
       "      <th>...</th>\n",
       "      <td>...</td>\n",
       "      <td>...</td>\n",
       "      <td>...</td>\n",
       "      <td>...</td>\n",
       "    </tr>\n",
       "    <tr>\n",
       "      <th>6100</th>\n",
       "      <td>yogurt</td>\n",
       "      <td>long life bakery product</td>\n",
       "      <td>NaN</td>\n",
       "      <td>NaN</td>\n",
       "    </tr>\n",
       "    <tr>\n",
       "      <th>6101</th>\n",
       "      <td>pork</td>\n",
       "      <td>frozen vegetables</td>\n",
       "      <td>pastry</td>\n",
       "      <td>NaN</td>\n",
       "    </tr>\n",
       "    <tr>\n",
       "      <th>6102</th>\n",
       "      <td>ice cream</td>\n",
       "      <td>long life bakery product</td>\n",
       "      <td>specialty chocolate</td>\n",
       "      <td>specialty bar</td>\n",
       "    </tr>\n",
       "    <tr>\n",
       "      <th>6103</th>\n",
       "      <td>cooking chocolate</td>\n",
       "      <td>NaN</td>\n",
       "      <td>NaN</td>\n",
       "      <td>NaN</td>\n",
       "    </tr>\n",
       "    <tr>\n",
       "      <th>6104</th>\n",
       "      <td>semi-finished bread</td>\n",
       "      <td>bottled water</td>\n",
       "      <td>soda</td>\n",
       "      <td>bottled beer</td>\n",
       "    </tr>\n",
       "  </tbody>\n",
       "</table>\n",
       "<p>6105 rows × 4 columns</p>\n",
       "</div>"
      ],
      "text/plain": [
       "             citrus fruit       semi-finished bread            margarine  \\\n",
       "0          tropical fruit                    yogurt               coffee   \n",
       "1              whole milk                       NaN                  NaN   \n",
       "2               pip fruit                    yogurt         cream cheese   \n",
       "3        other vegetables                whole milk       condensed milk   \n",
       "4              rolls/buns                       NaN                  NaN   \n",
       "...                   ...                       ...                  ...   \n",
       "6100               yogurt  long life bakery product                  NaN   \n",
       "6101                 pork         frozen vegetables               pastry   \n",
       "6102            ice cream  long life bakery product  specialty chocolate   \n",
       "6103    cooking chocolate                       NaN                  NaN   \n",
       "6104  semi-finished bread             bottled water                 soda   \n",
       "\n",
       "                   ready soups  \n",
       "0                          NaN  \n",
       "1                          NaN  \n",
       "2                 meat spreads  \n",
       "3     long life bakery product  \n",
       "4                          NaN  \n",
       "...                        ...  \n",
       "6100                       NaN  \n",
       "6101                       NaN  \n",
       "6102             specialty bar  \n",
       "6103                       NaN  \n",
       "6104              bottled beer  \n",
       "\n",
       "[6105 rows x 4 columns]"
      ]
     },
     "execution_count": 3,
     "metadata": {},
     "output_type": "execute_result"
    }
   ],
   "source": [
    "data = pd.read_csv(\"C:/Users/ramya/Desktop/cloud/Documents/sem 4/AML'/groceries.csv\",on_bad_lines='skip')\n",
    "data"
   ]
  },
  {
   "cell_type": "code",
   "execution_count": 4,
   "id": "367e2927",
   "metadata": {},
   "outputs": [],
   "source": [
    "transactions=[]  \n",
    "for i in range(0, 6105):  \n",
    "    transactions.append([str(data.values[i,j])  for j in range(0,4)])  "
   ]
  },
  {
   "cell_type": "code",
   "execution_count": 7,
   "id": "1a1c1101",
   "metadata": {},
   "outputs": [],
   "source": [
    "from apyori import apriori  \n",
    "rules= apriori(transactions= transactions, min_support=0.003, min_confidence = 0.2, min_lift=3, min_length=2, max_length=10)  "
   ]
  },
  {
   "cell_type": "code",
   "execution_count": 8,
   "id": "b637a3c4",
   "metadata": {},
   "outputs": [
    {
     "data": {
      "text/plain": [
       "[RelationRecord(items=frozenset({'bottled beer', 'liquor'}), support=0.005896805896805897, ordered_statistics=[OrderedStatistic(items_base=frozenset({'liquor'}), items_add=frozenset({'bottled beer'}), confidence=0.5625, lift=8.458282019704432)]),\n",
       " RelationRecord(items=frozenset({'bottled water', 'white wine'}), support=0.0034398034398034397, ordered_statistics=[OrderedStatistic(items_base=frozenset({'white wine'}), items_add=frozenset({'bottled water'}), confidence=0.2079207920792079, lift=3.1264936838511432)]),\n",
       " RelationRecord(items=frozenset({'bottled beer', 'nan', 'liquor'}), support=0.004258804258804259, ordered_statistics=[OrderedStatistic(items_base=frozenset({'liquor'}), items_add=frozenset({'bottled beer', 'nan'}), confidence=0.40625, lift=7.607841257668712), OrderedStatistic(items_base=frozenset({'nan', 'liquor'}), items_add=frozenset({'bottled beer'}), confidence=0.52, lift=7.819211822660098)]),\n",
       " RelationRecord(items=frozenset({'sausage', 'rolls/buns', 'soda'}), support=0.0034398034398034397, ordered_statistics=[OrderedStatistic(items_base=frozenset({'sausage', 'soda'}), items_add=frozenset({'rolls/buns'}), confidence=0.5, lift=3.964285714285715)])]"
      ]
     },
     "execution_count": 8,
     "metadata": {},
     "output_type": "execute_result"
    }
   ],
   "source": [
    "results = list(rules)\n",
    "results"
   ]
  },
  {
   "cell_type": "code",
   "execution_count": 9,
   "id": "d61e5563",
   "metadata": {},
   "outputs": [
    {
     "data": {
      "text/html": [
       "<div>\n",
       "<style scoped>\n",
       "    .dataframe tbody tr th:only-of-type {\n",
       "        vertical-align: middle;\n",
       "    }\n",
       "\n",
       "    .dataframe tbody tr th {\n",
       "        vertical-align: top;\n",
       "    }\n",
       "\n",
       "    .dataframe thead th {\n",
       "        text-align: right;\n",
       "    }\n",
       "</style>\n",
       "<table border=\"1\" class=\"dataframe\">\n",
       "  <thead>\n",
       "    <tr style=\"text-align: right;\">\n",
       "      <th></th>\n",
       "      <th>Product 1</th>\n",
       "      <th>Product 2</th>\n",
       "      <th>Support</th>\n",
       "    </tr>\n",
       "  </thead>\n",
       "  <tbody>\n",
       "    <tr>\n",
       "      <th>0</th>\n",
       "      <td>liquor</td>\n",
       "      <td>bottled beer</td>\n",
       "      <td>0.005897</td>\n",
       "    </tr>\n",
       "    <tr>\n",
       "      <th>1</th>\n",
       "      <td>white wine</td>\n",
       "      <td>bottled water</td>\n",
       "      <td>0.003440</td>\n",
       "    </tr>\n",
       "    <tr>\n",
       "      <th>2</th>\n",
       "      <td>liquor</td>\n",
       "      <td>bottled beer</td>\n",
       "      <td>0.004259</td>\n",
       "    </tr>\n",
       "    <tr>\n",
       "      <th>3</th>\n",
       "      <td>sausage</td>\n",
       "      <td>rolls/buns</td>\n",
       "      <td>0.003440</td>\n",
       "    </tr>\n",
       "  </tbody>\n",
       "</table>\n",
       "</div>"
      ],
      "text/plain": [
       "    Product 1      Product 2   Support\n",
       "0      liquor   bottled beer  0.005897\n",
       "1  white wine  bottled water  0.003440\n",
       "2      liquor   bottled beer  0.004259\n",
       "3     sausage     rolls/buns  0.003440"
      ]
     },
     "execution_count": 9,
     "metadata": {},
     "output_type": "execute_result"
    }
   ],
   "source": [
    "def inspect(results):\n",
    " lhs = [tuple(result[2][0][0])[0] for result in results]\n",
    " rhs = [tuple(result[2][0][1])[0] for result in results]\n",
    " supports = [result[1] for result in results]\n",
    " return list(zip(lhs, rhs, supports))\n",
    "resultsinDataFrame = pd.DataFrame(inspect(results), columns = ['Product 1', \n",
    "'Product 2', 'Support'])\n",
    "resultsinDataFrame"
   ]
  },
  {
   "cell_type": "code",
   "execution_count": null,
   "id": "9702d7c1",
   "metadata": {},
   "outputs": [],
   "source": []
  },
  {
   "cell_type": "code",
   "execution_count": null,
   "id": "563e2f9c",
   "metadata": {},
   "outputs": [],
   "source": []
  }
 ],
 "metadata": {
  "kernelspec": {
   "display_name": "Python 3 (ipykernel)",
   "language": "python",
   "name": "python3"
  },
  "language_info": {
   "codemirror_mode": {
    "name": "ipython",
    "version": 3
   },
   "file_extension": ".py",
   "mimetype": "text/x-python",
   "name": "python",
   "nbconvert_exporter": "python",
   "pygments_lexer": "ipython3",
   "version": "3.10.9"
  }
 },
 "nbformat": 4,
 "nbformat_minor": 5
}
